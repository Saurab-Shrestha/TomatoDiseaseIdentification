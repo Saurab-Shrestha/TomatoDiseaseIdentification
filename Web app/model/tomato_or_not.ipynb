{
 "cells": [
  {
   "cell_type": "code",
   "execution_count": 1,
   "metadata": {},
   "outputs": [],
   "source": [
    "# General\n",
    "import numpy as np\n",
    "import pandas as pd\n",
    "import matplotlib.pyplot as plt\n",
    "import seaborn as sns\n",
    "\n",
    "# Torch\n",
    "import torch\n",
    "from torchvision import datasets, transforms\n",
    "from torch.utils.data import Dataset\n",
    "from torchvision.datasets import ImageFolder\n",
    "from torch.utils.data.sampler import SubsetRandomSampler\n",
    "import torch.nn as nn\n",
    "import torch.nn.functional as F\n",
    "from datetime import datetime\n",
    "\n",
    "# Pillow\n",
    "from PIL import Image\n",
    "import pickle"
   ]
  },
  {
   "cell_type": "code",
   "execution_count": 2,
   "metadata": {},
   "outputs": [
    {
     "name": "stdout",
     "output_type": "stream",
     "text": [
      "torch.Size([4096, 1024])\n",
      "torch.Size([1024])\n",
      "torch.Size([1024, 7])\n",
      "torch.Size([7])\n"
     ]
    },
    {
     "data": {
      "text/plain": [
       "CNNModel(\n",
       "  (c1): Conv2D()\n",
       "  (m1): MaxPool()\n",
       "  (dropout): Dropout(p=0.25, inplace=False)\n",
       "  (c2): Conv2D()\n",
       "  (m2): MaxPool()\n",
       "  (c3): Conv2D()\n",
       "  (m3): MaxPool()\n",
       "  (c4): Conv2D()\n",
       "  (m4): MaxPool()\n",
       "  (c5): Conv2D()\n",
       "  (m5): MaxPool()\n",
       "  (d1): Dense()\n",
       "  (d2): Dense()\n",
       ")"
      ]
     },
     "execution_count": 2,
     "metadata": {},
     "output_type": "execute_result"
    }
   ],
   "source": [
    "device = torch.device('cpu')\n",
    "export_file = 'tomatoornot.pth'\n",
    "\n",
    "from final_model import Conv2D, MaxPool, Dense, CNNModel\n",
    "tomato_model = CNNModel()\n",
    "\n",
    "tomato_model.load_state_dict(torch.load(export_file,map_location=device))\n",
    "tomato_model.eval()"
   ]
  },
  {
   "cell_type": "code",
   "execution_count": 3,
   "metadata": {},
   "outputs": [],
   "source": [
    "idx_to_class = {\n",
    "    0: 'Not Tomato', \n",
    "    1: 'Tomato'\n",
    "}"
   ]
  },
  {
   "cell_type": "code",
   "execution_count": 25,
   "metadata": {},
   "outputs": [],
   "source": [
    "\n",
    "def predict_disease(img):\n",
    "    image = Image.open(img).convert('RGB')\n",
    "\n",
    "    # Apply transformations\n",
    "    transform = transforms.Compose([\n",
    "        transforms.Resize((256, 256)),\n",
    "        transforms.ToTensor(),\n",
    "        transforms.Normalize(mean=[0.485, 0.456, 0.406], std=[0.229, 0.224, 0.225])\n",
    "    ])\n",
    "    image = transform(image)\n",
    "\n",
    "    # Pass through the model\n",
    "    tomato_model.eval()\n",
    "    with torch.no_grad():\n",
    "        #image = image # Move input tensor to the GPU\n",
    "        output = tomato_model(image.unsqueeze(0))  # Add batch dimension\n",
    "    predicted_class = torch.argmax(output, dim=1).item()\n",
    "    actual_class = idx_to_class[predicted_class]\n",
    "    print('Predicted class:', actual_class)\n",
    "    return actual_class"
   ]
  },
  {
   "cell_type": "code",
   "execution_count": 26,
   "metadata": {},
   "outputs": [
    {
     "name": "stdout",
     "output_type": "stream",
     "text": [
      "Predicted class: Tomato\n"
     ]
    },
    {
     "data": {
      "text/plain": [
       "'Tomato'"
      ]
     },
     "execution_count": 26,
     "metadata": {},
     "output_type": "execute_result"
    }
   ],
   "source": [
    "img = \"C:/Users/Saurab/Desktop/Plant Disease Final/Notebook/Dataset/TomatoOrNot/Tomato/2190.jpg\"\n",
    "\n",
    "predict_disease(img)"
   ]
  },
  {
   "cell_type": "code",
   "execution_count": null,
   "metadata": {},
   "outputs": [],
   "source": []
  }
 ],
 "metadata": {
  "kernelspec": {
   "display_name": "base",
   "language": "python",
   "name": "python3"
  },
  "language_info": {
   "codemirror_mode": {
    "name": "ipython",
    "version": 3
   },
   "file_extension": ".py",
   "mimetype": "text/x-python",
   "name": "python",
   "nbconvert_exporter": "python",
   "pygments_lexer": "ipython3",
   "version": "3.9.13"
  },
  "orig_nbformat": 4,
  "vscode": {
   "interpreter": {
    "hash": "55ee6eaf08ae5ebc13ed428a7893765bfe6ee53bba406d18f1cefdbb97427938"
   }
  }
 },
 "nbformat": 4,
 "nbformat_minor": 2
}
